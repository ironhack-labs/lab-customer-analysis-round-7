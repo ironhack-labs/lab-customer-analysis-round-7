{
 "cells": [
  {
   "cell_type": "code",
   "execution_count": 1,
   "id": "ba0e100c-e90b-43e2-9659-73e312c547ed",
   "metadata": {},
   "outputs": [],
   "source": [
    "import pandas as pd\n",
    "import numpy as np"
   ]
  },
  {
   "cell_type": "code",
   "execution_count": 2,
   "id": "7f929e14-3223-42ad-a851-828588a422f0",
   "metadata": {},
   "outputs": [],
   "source": [
    "df=pd.read_csv('marketing_customer_analysis.csv')\n",
    "categoricals=df.select_dtypes(include=[object])\n",
    "numerical=df.select_dtypes(include=[np.number])"
   ]
  },
  {
   "cell_type": "code",
   "execution_count": 13,
   "id": "8929d96f-189a-49d9-88ea-6190deb2691d",
   "metadata": {},
   "outputs": [
    {
     "data": {
      "text/plain": [
       "Index(['Customer', 'State', 'Response', 'Coverage', 'Education',\n",
       "       'Effective To Date', 'EmploymentStatus', 'Gender', 'Location Code',\n",
       "       'Marital Status', 'Policy Type', 'Policy', 'Renew Offer Type',\n",
       "       'Sales Channel', 'Vehicle Class', 'Vehicle Size'],\n",
       "      dtype='object')"
      ]
     },
     "execution_count": 13,
     "metadata": {},
     "output_type": "execute_result"
    }
   ],
   "source": [
    "categoricals.columns"
   ]
  },
  {
   "cell_type": "code",
   "execution_count": 7,
   "id": "e7bade76-0362-4196-bea1-db8b990543b1",
   "metadata": {},
   "outputs": [
    {
     "data": {
      "text/plain": [
       "Index(['Customer', 'State', 'Customer Lifetime Value', 'Response', 'Coverage',\n",
       "       'Education', 'Effective To Date', 'EmploymentStatus', 'Gender',\n",
       "       'Income', 'Location Code', 'Marital Status', 'Monthly Premium Auto',\n",
       "       'Months Since Last Claim', 'Months Since Policy Inception',\n",
       "       'Number of Open Complaints', 'Number of Policies', 'Policy Type',\n",
       "       'Policy', 'Renew Offer Type', 'Sales Channel', 'Total Claim Amount',\n",
       "       'Vehicle Class', 'Vehicle Size'],\n",
       "      dtype='object')"
      ]
     },
     "execution_count": 7,
     "metadata": {},
     "output_type": "execute_result"
    }
   ],
   "source": [
    "df.columns"
   ]
  },
  {
   "cell_type": "code",
   "execution_count": 9,
   "id": "76a04b0a-edd5-4b11-bea3-cf5874203e25",
   "metadata": {},
   "outputs": [],
   "source": [
    "X = df.drop(columns = ['Gender', 'Total Claim Amount'])\n",
    "y = df['Total Claim Amount']"
   ]
  },
  {
   "cell_type": "code",
   "execution_count": 10,
   "id": "11e494bd-3e3a-4460-bdfc-7777e6018121",
   "metadata": {},
   "outputs": [],
   "source": [
    "from sklearn.model_selection import train_test_split"
   ]
  },
  {
   "cell_type": "code",
   "execution_count": 14,
   "id": "d1689c8c-b04d-4c24-ba81-237ae649e9b8",
   "metadata": {},
   "outputs": [],
   "source": [
    "# OneHotEncoder\n",
    "X_clean = pd.get_dummies(X, columns = ['Customer', 'State', 'Response', 'Coverage', 'Education',\n",
    "       'Effective To Date', 'EmploymentStatus', 'Location Code',\n",
    "       'Marital Status', 'Policy Type', 'Policy', 'Renew Offer Type',\n",
    "       'Sales Channel', 'Vehicle Class', 'Vehicle Size'])"
   ]
  },
  {
   "cell_type": "code",
   "execution_count": 16,
   "id": "3afe388e-7fc7-4432-ab31-8a81467f6e8a",
   "metadata": {},
   "outputs": [],
   "source": [
    "X_train, X_test, y_train, y_test = train_test_split(X_clean, y, train_size = 0.8, random_state = 419)"
   ]
  },
  {
   "cell_type": "code",
   "execution_count": 17,
   "id": "ce0beb7f-1b21-4212-a70f-fbcdbb0015c7",
   "metadata": {},
   "outputs": [
    {
     "name": "stdout",
     "output_type": "stream",
     "text": [
      "(9134, 9255)\n",
      "(7307, 9255)\n",
      "(1827, 9255)\n",
      "(9134,)\n",
      "(7307,)\n",
      "(1827,)\n"
     ]
    }
   ],
   "source": [
    "X_clean.columns"
   ]
  },
  {
   "cell_type": "code",
   "execution_count": 18,
   "id": "1f353785-9ac1-4ba8-b9c6-93224bac0e05",
   "metadata": {},
   "outputs": [
    {
     "data": {
      "text/plain": [
       "RangeIndex(start=0, stop=9134, step=1)"
      ]
     },
     "execution_count": 18,
     "metadata": {},
     "output_type": "execute_result"
    }
   ],
   "source": [
    "X.index"
   ]
  },
  {
   "cell_type": "code",
   "execution_count": 19,
   "id": "5839b8aa-29f5-4cb1-8813-846afceea435",
   "metadata": {},
   "outputs": [
    {
     "data": {
      "text/plain": [
       "RangeIndex(start=0, stop=9134, step=1)"
      ]
     },
     "execution_count": 19,
     "metadata": {},
     "output_type": "execute_result"
    }
   ],
   "source": [
    "y.index"
   ]
  },
  {
   "cell_type": "code",
   "execution_count": 21,
   "id": "e2f1fcf3-1159-4db2-b397-64193f67daa2",
   "metadata": {},
   "outputs": [],
   "source": [
    "from sklearn.linear_model import LinearRegression"
   ]
  },
  {
   "cell_type": "code",
   "execution_count": 23,
   "id": "41c3ae55-8d8d-4d48-b08b-b6c0be83ff23",
   "metadata": {},
   "outputs": [],
   "source": [
    "linreg = LinearRegression().fit(X_train, y_train)"
   ]
  },
  {
   "cell_type": "code",
   "execution_count": 24,
   "id": "5e46b640-e27c-4de7-af95-18db86d54b5f",
   "metadata": {},
   "outputs": [],
   "source": [
    "from sklearn import metrics"
   ]
  },
  {
   "cell_type": "code",
   "execution_count": 25,
   "id": "24198d62-98e7-46d7-acfa-d459a10e0d3f",
   "metadata": {},
   "outputs": [],
   "source": [
    "predicciones_train = linreg.predict(X_train)\n",
    "predicciones_test = linreg.predict(X_test)"
   ]
  },
  {
   "cell_type": "code",
   "execution_count": 26,
   "id": "da41317e-8a48-43e1-b58c-4b45b482118d",
   "metadata": {},
   "outputs": [
    {
     "name": "stdout",
     "output_type": "stream",
     "text": [
      "1.0\n",
      "0.7575334719555136\n"
     ]
    }
   ],
   "source": [
    "print(metrics.r2_score(y_train, predicciones_train))\n",
    "print(metrics.r2_score(y_test, predicciones_test))"
   ]
  },
  {
   "cell_type": "code",
   "execution_count": 27,
   "id": "69ea3b1c-4589-47d7-9593-1e7c0644ebee",
   "metadata": {},
   "outputs": [
    {
     "name": "stdout",
     "output_type": "stream",
     "text": [
      "4.563459984233653e-09\n",
      "97.87775862095553\n"
     ]
    }
   ],
   "source": [
    "print(metrics.mean_absolute_error(y_train, predicciones_train))\n",
    "print(metrics.mean_absolute_error(y_test, predicciones_test))"
   ]
  },
  {
   "cell_type": "code",
   "execution_count": 28,
   "id": "3b043c75-072c-46dd-85b6-b125d3a9782f",
   "metadata": {},
   "outputs": [
    {
     "data": {
      "text/plain": [
       "count    7307.000000\n",
       "mean      434.656430\n",
       "std       289.529538\n",
       "min         0.423310\n",
       "25%       270.377414\n",
       "50%       386.031248\n",
       "75%       552.000000\n",
       "max      2759.794354\n",
       "Name: Total Claim Amount, dtype: float64"
      ]
     },
     "execution_count": 28,
     "metadata": {},
     "output_type": "execute_result"
    }
   ],
   "source": [
    "y_train.describe()"
   ]
  },
  {
   "cell_type": "code",
   "execution_count": 29,
   "id": "4a26ea91-11cb-400c-9d13-199175ba16ff",
   "metadata": {},
   "outputs": [
    {
     "name": "stdout",
     "output_type": "stream",
     "text": [
      "3.367398901250959e-11\n",
      "1.222822653216282\n"
     ]
    }
   ],
   "source": [
    "print(metrics.mean_absolute_percentage_error(y_train, predicciones_train))\n",
    "print(metrics.mean_absolute_percentage_error(y_test, predicciones_test))"
   ]
  },
  {
   "cell_type": "markdown",
   "id": "5586792d-76e2-4d59-9ed3-3a4cb5efeab1",
   "metadata": {
    "tags": []
   },
   "source": [
    "### MODEL MAY BE OVERFITTED"
   ]
  },
  {
   "cell_type": "code",
   "execution_count": 31,
   "id": "14393163-2e69-4907-b7ae-7f3c1e383cdb",
   "metadata": {},
   "outputs": [],
   "source": [
    "import pickle"
   ]
  },
  {
   "cell_type": "code",
   "execution_count": 32,
   "id": "4dac3df4-a69b-4fa9-a25c-fc00556c0f6f",
   "metadata": {},
   "outputs": [],
   "source": [
    "with open('modelo.pickle', 'wb') as f:\n",
    "    pickle.dump(linreg, f)"
   ]
  },
  {
   "cell_type": "code",
   "execution_count": 33,
   "id": "2a5a4325-2c2d-47e4-a33e-9b7975f1a7af",
   "metadata": {},
   "outputs": [],
   "source": [
    "with open('modelo.pickle', 'rb') as f:\n",
    "    modelo = pickle.load(f)"
   ]
  },
  {
   "cell_type": "code",
   "execution_count": 34,
   "id": "eb8aa8b0-fd73-4e6b-a598-04accd0970a1",
   "metadata": {},
   "outputs": [
    {
     "data": {
      "text/plain": [
       "array([ True,  True,  True, ...,  True,  True,  True])"
      ]
     },
     "execution_count": 34,
     "metadata": {},
     "output_type": "execute_result"
    }
   ],
   "source": [
    "linreg.coef_ == modelo.coef_"
   ]
  },
  {
   "cell_type": "code",
   "execution_count": 37,
   "id": "de6809c1-5645-44fd-885d-0b14bd991e3c",
   "metadata": {},
   "outputs": [],
   "source": [
    "from feature_engine.encoding import OrdinalEncoder"
   ]
  },
  {
   "cell_type": "code",
   "execution_count": 38,
   "id": "741c0b63-243d-4689-9480-215fdd04cf1c",
   "metadata": {},
   "outputs": [
    {
     "data": {
      "text/plain": [
       "OrdinalEncoder(variables=['Customer', 'State', 'Response', 'Coverage',\n",
       "                          'Education', 'Effective To Date', 'EmploymentStatus',\n",
       "                          'Location Code', 'Marital Status', 'Policy Type',\n",
       "                          'Policy', 'Renew Offer Type', 'Sales Channel',\n",
       "                          'Vehicle Class', 'Vehicle Size'])"
      ]
     },
     "execution_count": 38,
     "metadata": {},
     "output_type": "execute_result"
    }
   ],
   "source": [
    "od = OrdinalEncoder(encoding_method='ordered', variables =['Customer', 'State', 'Response', 'Coverage', 'Education',\n",
    "       'Effective To Date', 'EmploymentStatus', 'Location Code',\n",
    "       'Marital Status', 'Policy Type', 'Policy', 'Renew Offer Type',\n",
    "       'Sales Channel', 'Vehicle Class', 'Vehicle Size'])\n",
    "od.fit(X, y)"
   ]
  },
  {
   "cell_type": "code",
   "execution_count": 40,
   "id": "374766c6-5c4d-49d6-bcca-73370ef3d860",
   "metadata": {},
   "outputs": [],
   "source": [
    "X = od.transform(X)"
   ]
  },
  {
   "cell_type": "code",
   "execution_count": 42,
   "id": "3dea047c-782e-4c99-8462-c2a27ad3ae59",
   "metadata": {},
   "outputs": [
    {
     "data": {
      "text/html": [
       "<div>\n",
       "<style scoped>\n",
       "    .dataframe tbody tr th:only-of-type {\n",
       "        vertical-align: middle;\n",
       "    }\n",
       "\n",
       "    .dataframe tbody tr th {\n",
       "        vertical-align: top;\n",
       "    }\n",
       "\n",
       "    .dataframe thead th {\n",
       "        text-align: right;\n",
       "    }\n",
       "</style>\n",
       "<table border=\"1\" class=\"dataframe\">\n",
       "  <thead>\n",
       "    <tr style=\"text-align: right;\">\n",
       "      <th></th>\n",
       "      <th>Customer</th>\n",
       "      <th>State</th>\n",
       "      <th>Customer Lifetime Value</th>\n",
       "      <th>Response</th>\n",
       "      <th>Coverage</th>\n",
       "      <th>Education</th>\n",
       "      <th>Effective To Date</th>\n",
       "      <th>EmploymentStatus</th>\n",
       "      <th>Income</th>\n",
       "      <th>Location Code</th>\n",
       "      <th>...</th>\n",
       "      <th>Months Since Last Claim</th>\n",
       "      <th>Months Since Policy Inception</th>\n",
       "      <th>Number of Open Complaints</th>\n",
       "      <th>Number of Policies</th>\n",
       "      <th>Policy Type</th>\n",
       "      <th>Policy</th>\n",
       "      <th>Renew Offer Type</th>\n",
       "      <th>Sales Channel</th>\n",
       "      <th>Vehicle Class</th>\n",
       "      <th>Vehicle Size</th>\n",
       "    </tr>\n",
       "  </thead>\n",
       "  <tbody>\n",
       "    <tr>\n",
       "      <th>0</th>\n",
       "      <td>4595</td>\n",
       "      <td>2</td>\n",
       "      <td>2763.519279</td>\n",
       "      <td>0</td>\n",
       "      <td>0</td>\n",
       "      <td>3</td>\n",
       "      <td>12</td>\n",
       "      <td>0</td>\n",
       "      <td>56274</td>\n",
       "      <td>2</td>\n",
       "      <td>...</td>\n",
       "      <td>32</td>\n",
       "      <td>5</td>\n",
       "      <td>0</td>\n",
       "      <td>1</td>\n",
       "      <td>0</td>\n",
       "      <td>0</td>\n",
       "      <td>3</td>\n",
       "      <td>3</td>\n",
       "      <td>0</td>\n",
       "      <td>0</td>\n",
       "    </tr>\n",
       "    <tr>\n",
       "      <th>1</th>\n",
       "      <td>8854</td>\n",
       "      <td>0</td>\n",
       "      <td>6979.535903</td>\n",
       "      <td>0</td>\n",
       "      <td>1</td>\n",
       "      <td>3</td>\n",
       "      <td>6</td>\n",
       "      <td>4</td>\n",
       "      <td>0</td>\n",
       "      <td>2</td>\n",
       "      <td>...</td>\n",
       "      <td>13</td>\n",
       "      <td>42</td>\n",
       "      <td>0</td>\n",
       "      <td>8</td>\n",
       "      <td>1</td>\n",
       "      <td>2</td>\n",
       "      <td>2</td>\n",
       "      <td>3</td>\n",
       "      <td>1</td>\n",
       "      <td>0</td>\n",
       "    </tr>\n",
       "    <tr>\n",
       "      <th>2</th>\n",
       "      <td>7076</td>\n",
       "      <td>4</td>\n",
       "      <td>12887.431650</td>\n",
       "      <td>0</td>\n",
       "      <td>2</td>\n",
       "      <td>3</td>\n",
       "      <td>38</td>\n",
       "      <td>0</td>\n",
       "      <td>48767</td>\n",
       "      <td>2</td>\n",
       "      <td>...</td>\n",
       "      <td>18</td>\n",
       "      <td>38</td>\n",
       "      <td>0</td>\n",
       "      <td>2</td>\n",
       "      <td>1</td>\n",
       "      <td>2</td>\n",
       "      <td>3</td>\n",
       "      <td>3</td>\n",
       "      <td>0</td>\n",
       "      <td>0</td>\n",
       "    </tr>\n",
       "    <tr>\n",
       "      <th>3</th>\n",
       "      <td>6621</td>\n",
       "      <td>3</td>\n",
       "      <td>7645.861827</td>\n",
       "      <td>0</td>\n",
       "      <td>0</td>\n",
       "      <td>3</td>\n",
       "      <td>21</td>\n",
       "      <td>4</td>\n",
       "      <td>0</td>\n",
       "      <td>2</td>\n",
       "      <td>...</td>\n",
       "      <td>18</td>\n",
       "      <td>65</td>\n",
       "      <td>0</td>\n",
       "      <td>7</td>\n",
       "      <td>0</td>\n",
       "      <td>6</td>\n",
       "      <td>3</td>\n",
       "      <td>0</td>\n",
       "      <td>3</td>\n",
       "      <td>0</td>\n",
       "    </tr>\n",
       "    <tr>\n",
       "      <th>4</th>\n",
       "      <td>1233</td>\n",
       "      <td>2</td>\n",
       "      <td>2813.692575</td>\n",
       "      <td>0</td>\n",
       "      <td>0</td>\n",
       "      <td>3</td>\n",
       "      <td>1</td>\n",
       "      <td>0</td>\n",
       "      <td>43836</td>\n",
       "      <td>0</td>\n",
       "      <td>...</td>\n",
       "      <td>12</td>\n",
       "      <td>44</td>\n",
       "      <td>0</td>\n",
       "      <td>1</td>\n",
       "      <td>1</td>\n",
       "      <td>7</td>\n",
       "      <td>3</td>\n",
       "      <td>3</td>\n",
       "      <td>1</td>\n",
       "      <td>0</td>\n",
       "    </tr>\n",
       "  </tbody>\n",
       "</table>\n",
       "<p>5 rows × 22 columns</p>\n",
       "</div>"
      ],
      "text/plain": [
       "   Customer  State  Customer Lifetime Value  Response  Coverage  Education  \\\n",
       "0      4595      2              2763.519279         0         0          3   \n",
       "1      8854      0              6979.535903         0         1          3   \n",
       "2      7076      4             12887.431650         0         2          3   \n",
       "3      6621      3              7645.861827         0         0          3   \n",
       "4      1233      2              2813.692575         0         0          3   \n",
       "\n",
       "   Effective To Date  EmploymentStatus  Income  Location Code  ...  \\\n",
       "0                 12                 0   56274              2  ...   \n",
       "1                  6                 4       0              2  ...   \n",
       "2                 38                 0   48767              2  ...   \n",
       "3                 21                 4       0              2  ...   \n",
       "4                  1                 0   43836              0  ...   \n",
       "\n",
       "   Months Since Last Claim  Months Since Policy Inception  \\\n",
       "0                       32                              5   \n",
       "1                       13                             42   \n",
       "2                       18                             38   \n",
       "3                       18                             65   \n",
       "4                       12                             44   \n",
       "\n",
       "   Number of Open Complaints  Number of Policies  Policy Type  Policy  \\\n",
       "0                          0                   1            0       0   \n",
       "1                          0                   8            1       2   \n",
       "2                          0                   2            1       2   \n",
       "3                          0                   7            0       6   \n",
       "4                          0                   1            1       7   \n",
       "\n",
       "   Renew Offer Type  Sales Channel  Vehicle Class  Vehicle Size  \n",
       "0                 3              3              0             0  \n",
       "1                 2              3              1             0  \n",
       "2                 3              3              0             0  \n",
       "3                 3              0              3             0  \n",
       "4                 3              3              1             0  \n",
       "\n",
       "[5 rows x 22 columns]"
      ]
     },
     "execution_count": 42,
     "metadata": {},
     "output_type": "execute_result"
    }
   ],
   "source": [
    "X.head()"
   ]
  },
  {
   "cell_type": "code",
   "execution_count": 44,
   "id": "b4c5354a-f340-4d1f-9756-8e5b6734d90a",
   "metadata": {},
   "outputs": [],
   "source": [
    "X_train, X_test, y_train, y_test = train_test_split(X, y, train_size = 0.8, random_state = 419)"
   ]
  },
  {
   "cell_type": "code",
   "execution_count": 45,
   "id": "f5343cd2-b358-4eb4-bc09-b8efbfefd6b5",
   "metadata": {},
   "outputs": [],
   "source": [
    "linreg_new = LinearRegression()"
   ]
  },
  {
   "cell_type": "code",
   "execution_count": 46,
   "id": "7286ee0c-9695-4b00-aa31-8c287d9d792e",
   "metadata": {},
   "outputs": [
    {
     "data": {
      "text/plain": [
       "LinearRegression()"
      ]
     },
     "execution_count": 46,
     "metadata": {},
     "output_type": "execute_result"
    }
   ],
   "source": [
    "linreg_new.fit(X_train, y_train)"
   ]
  },
  {
   "cell_type": "code",
   "execution_count": 56,
   "id": "af5ed30f-9d10-46a5-a4fc-692dc50dd6bf",
   "metadata": {},
   "outputs": [
    {
     "data": {
      "text/plain": [
       "array([ 7.61898105e-02,  9.89355434e-01, -4.92048882e-04, -1.84824650e+01,\n",
       "       -5.11778790e+01,  2.60738009e+00,  2.34602560e-01,  7.78918383e+00,\n",
       "       -1.34894030e-04,  1.69445848e+01,  1.58607175e+01,  3.66973764e+00,\n",
       "        3.15913503e-01,  6.05324061e-02,  1.04462028e+00,  6.50729876e-01,\n",
       "        9.87925415e-02,  7.26589581e-01, -5.20094987e+00,  1.43879735e+00,\n",
       "       -3.29181244e+01,  9.58451327e-01])"
      ]
     },
     "execution_count": 56,
     "metadata": {},
     "output_type": "execute_result"
    }
   ],
   "source": [
    "linreg_new.coef_"
   ]
  },
  {
   "cell_type": "code",
   "execution_count": 47,
   "id": "b797c16c-986f-4ced-9a36-4df351663307",
   "metadata": {},
   "outputs": [],
   "source": [
    "predicciones_train = linreg_new.predict(X_train)\n",
    "predicciones_test = linreg_new.predict(X_test)"
   ]
  },
  {
   "cell_type": "code",
   "execution_count": 48,
   "id": "9efe4bdc-166f-4cf2-b69b-9e2f9cec9cfc",
   "metadata": {},
   "outputs": [
    {
     "name": "stdout",
     "output_type": "stream",
     "text": [
      "0.8608022786074015\n",
      "0.8488610132180682\n"
     ]
    }
   ],
   "source": [
    "print(metrics.r2_score(y_train, predicciones_train))\n",
    "print(metrics.r2_score(y_test, predicciones_test))"
   ]
  },
  {
   "cell_type": "code",
   "execution_count": 49,
   "id": "c1fb79bd-150b-46fa-8dde-69e21524b06d",
   "metadata": {},
   "outputs": [
    {
     "name": "stdout",
     "output_type": "stream",
     "text": [
      "64.82592116273045\n",
      "66.39616608292009\n"
     ]
    }
   ],
   "source": [
    "print(metrics.mean_absolute_error(y_train, predicciones_train))\n",
    "print(metrics.mean_absolute_error(y_test, predicciones_test))"
   ]
  },
  {
   "cell_type": "code",
   "execution_count": 51,
   "id": "fac70ec2-6a49-486f-bdd7-70063fb55872",
   "metadata": {},
   "outputs": [
    {
     "data": {
      "text/plain": [
       "count    7307.000000\n",
       "mean      434.656430\n",
       "std       289.529538\n",
       "min         0.423310\n",
       "25%       270.377414\n",
       "50%       386.031248\n",
       "75%       552.000000\n",
       "max      2759.794354\n",
       "Name: Total Claim Amount, dtype: float64"
      ]
     },
     "execution_count": 51,
     "metadata": {},
     "output_type": "execute_result"
    }
   ],
   "source": [
    "y_train.describe()"
   ]
  },
  {
   "cell_type": "code",
   "execution_count": 53,
   "id": "0c09ff20-32e7-4b7d-917a-42aa10102eb2",
   "metadata": {},
   "outputs": [
    {
     "data": {
      "text/html": [
       "<div>\n",
       "<style scoped>\n",
       "    .dataframe tbody tr th:only-of-type {\n",
       "        vertical-align: middle;\n",
       "    }\n",
       "\n",
       "    .dataframe tbody tr th {\n",
       "        vertical-align: top;\n",
       "    }\n",
       "\n",
       "    .dataframe thead th {\n",
       "        text-align: right;\n",
       "    }\n",
       "</style>\n",
       "<table border=\"1\" class=\"dataframe\">\n",
       "  <thead>\n",
       "    <tr style=\"text-align: right;\">\n",
       "      <th></th>\n",
       "      <th>Customer</th>\n",
       "      <th>State</th>\n",
       "      <th>Customer Lifetime Value</th>\n",
       "      <th>Response</th>\n",
       "      <th>Coverage</th>\n",
       "      <th>Education</th>\n",
       "      <th>Effective To Date</th>\n",
       "      <th>EmploymentStatus</th>\n",
       "      <th>Income</th>\n",
       "      <th>Location Code</th>\n",
       "      <th>...</th>\n",
       "      <th>Months Since Last Claim</th>\n",
       "      <th>Months Since Policy Inception</th>\n",
       "      <th>Number of Open Complaints</th>\n",
       "      <th>Number of Policies</th>\n",
       "      <th>Policy Type</th>\n",
       "      <th>Policy</th>\n",
       "      <th>Renew Offer Type</th>\n",
       "      <th>Sales Channel</th>\n",
       "      <th>Vehicle Class</th>\n",
       "      <th>Vehicle Size</th>\n",
       "    </tr>\n",
       "  </thead>\n",
       "  <tbody>\n",
       "    <tr>\n",
       "      <th>count</th>\n",
       "      <td>7307.000000</td>\n",
       "      <td>7307.000000</td>\n",
       "      <td>7307.000000</td>\n",
       "      <td>7307.000000</td>\n",
       "      <td>7307.000000</td>\n",
       "      <td>7307.000000</td>\n",
       "      <td>7307.000000</td>\n",
       "      <td>7307.000000</td>\n",
       "      <td>7307.000000</td>\n",
       "      <td>7307.000000</td>\n",
       "      <td>...</td>\n",
       "      <td>7307.000000</td>\n",
       "      <td>7307.000000</td>\n",
       "      <td>7307.000000</td>\n",
       "      <td>7307.000000</td>\n",
       "      <td>7307.000000</td>\n",
       "      <td>7307.000000</td>\n",
       "      <td>7307.000000</td>\n",
       "      <td>7307.000000</td>\n",
       "      <td>7307.000000</td>\n",
       "      <td>7307.000000</td>\n",
       "    </tr>\n",
       "    <tr>\n",
       "      <th>mean</th>\n",
       "      <td>4578.715615</td>\n",
       "      <td>1.872998</td>\n",
       "      <td>7995.750433</td>\n",
       "      <td>0.143287</td>\n",
       "      <td>0.483509</td>\n",
       "      <td>2.717121</td>\n",
       "      <td>28.943342</td>\n",
       "      <td>1.237033</td>\n",
       "      <td>37777.477077</td>\n",
       "      <td>1.439168</td>\n",
       "      <td>...</td>\n",
       "      <td>15.038867</td>\n",
       "      <td>48.436568</td>\n",
       "      <td>0.390311</td>\n",
       "      <td>2.973040</td>\n",
       "      <td>0.823594</td>\n",
       "      <td>3.108663</td>\n",
       "      <td>1.868482</td>\n",
       "      <td>1.715889</td>\n",
       "      <td>1.379910</td>\n",
       "      <td>0.488025</td>\n",
       "    </tr>\n",
       "    <tr>\n",
       "      <th>std</th>\n",
       "      <td>2645.005740</td>\n",
       "      <td>1.322288</td>\n",
       "      <td>6836.349505</td>\n",
       "      <td>0.350390</td>\n",
       "      <td>0.657535</td>\n",
       "      <td>1.083452</td>\n",
       "      <td>16.878661</td>\n",
       "      <td>1.733056</td>\n",
       "      <td>30386.436616</td>\n",
       "      <td>0.795184</td>\n",
       "      <td>...</td>\n",
       "      <td>10.039103</td>\n",
       "      <td>27.679161</td>\n",
       "      <td>0.918737</td>\n",
       "      <td>2.394494</td>\n",
       "      <td>0.474019</td>\n",
       "      <td>2.122440</td>\n",
       "      <td>1.081829</td>\n",
       "      <td>1.161959</td>\n",
       "      <td>1.168841</td>\n",
       "      <td>0.797246</td>\n",
       "    </tr>\n",
       "    <tr>\n",
       "      <th>min</th>\n",
       "      <td>2.000000</td>\n",
       "      <td>0.000000</td>\n",
       "      <td>1898.683686</td>\n",
       "      <td>0.000000</td>\n",
       "      <td>0.000000</td>\n",
       "      <td>0.000000</td>\n",
       "      <td>0.000000</td>\n",
       "      <td>0.000000</td>\n",
       "      <td>0.000000</td>\n",
       "      <td>0.000000</td>\n",
       "      <td>...</td>\n",
       "      <td>0.000000</td>\n",
       "      <td>0.000000</td>\n",
       "      <td>0.000000</td>\n",
       "      <td>1.000000</td>\n",
       "      <td>0.000000</td>\n",
       "      <td>0.000000</td>\n",
       "      <td>0.000000</td>\n",
       "      <td>0.000000</td>\n",
       "      <td>0.000000</td>\n",
       "      <td>0.000000</td>\n",
       "    </tr>\n",
       "    <tr>\n",
       "      <th>25%</th>\n",
       "      <td>2270.500000</td>\n",
       "      <td>1.000000</td>\n",
       "      <td>4015.066488</td>\n",
       "      <td>0.000000</td>\n",
       "      <td>0.000000</td>\n",
       "      <td>2.000000</td>\n",
       "      <td>14.000000</td>\n",
       "      <td>0.000000</td>\n",
       "      <td>0.000000</td>\n",
       "      <td>1.000000</td>\n",
       "      <td>...</td>\n",
       "      <td>6.000000</td>\n",
       "      <td>25.000000</td>\n",
       "      <td>0.000000</td>\n",
       "      <td>1.000000</td>\n",
       "      <td>1.000000</td>\n",
       "      <td>2.000000</td>\n",
       "      <td>1.000000</td>\n",
       "      <td>1.000000</td>\n",
       "      <td>1.000000</td>\n",
       "      <td>0.000000</td>\n",
       "    </tr>\n",
       "    <tr>\n",
       "      <th>50%</th>\n",
       "      <td>4599.000000</td>\n",
       "      <td>2.000000</td>\n",
       "      <td>5771.610372</td>\n",
       "      <td>0.000000</td>\n",
       "      <td>0.000000</td>\n",
       "      <td>3.000000</td>\n",
       "      <td>29.000000</td>\n",
       "      <td>0.000000</td>\n",
       "      <td>34133.000000</td>\n",
       "      <td>2.000000</td>\n",
       "      <td>...</td>\n",
       "      <td>14.000000</td>\n",
       "      <td>48.000000</td>\n",
       "      <td>0.000000</td>\n",
       "      <td>2.000000</td>\n",
       "      <td>1.000000</td>\n",
       "      <td>2.000000</td>\n",
       "      <td>2.000000</td>\n",
       "      <td>2.000000</td>\n",
       "      <td>1.000000</td>\n",
       "      <td>0.000000</td>\n",
       "    </tr>\n",
       "    <tr>\n",
       "      <th>75%</th>\n",
       "      <td>6888.000000</td>\n",
       "      <td>3.000000</td>\n",
       "      <td>8971.393809</td>\n",
       "      <td>0.000000</td>\n",
       "      <td>1.000000</td>\n",
       "      <td>4.000000</td>\n",
       "      <td>43.000000</td>\n",
       "      <td>4.000000</td>\n",
       "      <td>62450.000000</td>\n",
       "      <td>2.000000</td>\n",
       "      <td>...</td>\n",
       "      <td>23.000000</td>\n",
       "      <td>71.000000</td>\n",
       "      <td>0.000000</td>\n",
       "      <td>4.000000</td>\n",
       "      <td>1.000000</td>\n",
       "      <td>4.000000</td>\n",
       "      <td>3.000000</td>\n",
       "      <td>3.000000</td>\n",
       "      <td>2.000000</td>\n",
       "      <td>1.000000</td>\n",
       "    </tr>\n",
       "    <tr>\n",
       "      <th>max</th>\n",
       "      <td>9132.000000</td>\n",
       "      <td>4.000000</td>\n",
       "      <td>83325.381190</td>\n",
       "      <td>1.000000</td>\n",
       "      <td>2.000000</td>\n",
       "      <td>4.000000</td>\n",
       "      <td>58.000000</td>\n",
       "      <td>4.000000</td>\n",
       "      <td>99961.000000</td>\n",
       "      <td>2.000000</td>\n",
       "      <td>...</td>\n",
       "      <td>35.000000</td>\n",
       "      <td>99.000000</td>\n",
       "      <td>5.000000</td>\n",
       "      <td>9.000000</td>\n",
       "      <td>2.000000</td>\n",
       "      <td>8.000000</td>\n",
       "      <td>3.000000</td>\n",
       "      <td>3.000000</td>\n",
       "      <td>5.000000</td>\n",
       "      <td>2.000000</td>\n",
       "    </tr>\n",
       "  </tbody>\n",
       "</table>\n",
       "<p>8 rows × 22 columns</p>\n",
       "</div>"
      ],
      "text/plain": [
       "          Customer        State  Customer Lifetime Value     Response  \\\n",
       "count  7307.000000  7307.000000              7307.000000  7307.000000   \n",
       "mean   4578.715615     1.872998              7995.750433     0.143287   \n",
       "std    2645.005740     1.322288              6836.349505     0.350390   \n",
       "min       2.000000     0.000000              1898.683686     0.000000   \n",
       "25%    2270.500000     1.000000              4015.066488     0.000000   \n",
       "50%    4599.000000     2.000000              5771.610372     0.000000   \n",
       "75%    6888.000000     3.000000              8971.393809     0.000000   \n",
       "max    9132.000000     4.000000             83325.381190     1.000000   \n",
       "\n",
       "          Coverage    Education  Effective To Date  EmploymentStatus  \\\n",
       "count  7307.000000  7307.000000        7307.000000       7307.000000   \n",
       "mean      0.483509     2.717121          28.943342          1.237033   \n",
       "std       0.657535     1.083452          16.878661          1.733056   \n",
       "min       0.000000     0.000000           0.000000          0.000000   \n",
       "25%       0.000000     2.000000          14.000000          0.000000   \n",
       "50%       0.000000     3.000000          29.000000          0.000000   \n",
       "75%       1.000000     4.000000          43.000000          4.000000   \n",
       "max       2.000000     4.000000          58.000000          4.000000   \n",
       "\n",
       "             Income  Location Code  ...  Months Since Last Claim  \\\n",
       "count   7307.000000    7307.000000  ...              7307.000000   \n",
       "mean   37777.477077       1.439168  ...                15.038867   \n",
       "std    30386.436616       0.795184  ...                10.039103   \n",
       "min        0.000000       0.000000  ...                 0.000000   \n",
       "25%        0.000000       1.000000  ...                 6.000000   \n",
       "50%    34133.000000       2.000000  ...                14.000000   \n",
       "75%    62450.000000       2.000000  ...                23.000000   \n",
       "max    99961.000000       2.000000  ...                35.000000   \n",
       "\n",
       "       Months Since Policy Inception  Number of Open Complaints  \\\n",
       "count                    7307.000000                7307.000000   \n",
       "mean                       48.436568                   0.390311   \n",
       "std                        27.679161                   0.918737   \n",
       "min                         0.000000                   0.000000   \n",
       "25%                        25.000000                   0.000000   \n",
       "50%                        48.000000                   0.000000   \n",
       "75%                        71.000000                   0.000000   \n",
       "max                        99.000000                   5.000000   \n",
       "\n",
       "       Number of Policies  Policy Type       Policy  Renew Offer Type  \\\n",
       "count         7307.000000  7307.000000  7307.000000       7307.000000   \n",
       "mean             2.973040     0.823594     3.108663          1.868482   \n",
       "std              2.394494     0.474019     2.122440          1.081829   \n",
       "min              1.000000     0.000000     0.000000          0.000000   \n",
       "25%              1.000000     1.000000     2.000000          1.000000   \n",
       "50%              2.000000     1.000000     2.000000          2.000000   \n",
       "75%              4.000000     1.000000     4.000000          3.000000   \n",
       "max              9.000000     2.000000     8.000000          3.000000   \n",
       "\n",
       "       Sales Channel  Vehicle Class  Vehicle Size  \n",
       "count    7307.000000    7307.000000   7307.000000  \n",
       "mean        1.715889       1.379910      0.488025  \n",
       "std         1.161959       1.168841      0.797246  \n",
       "min         0.000000       0.000000      0.000000  \n",
       "25%         1.000000       1.000000      0.000000  \n",
       "50%         2.000000       1.000000      0.000000  \n",
       "75%         3.000000       2.000000      1.000000  \n",
       "max         3.000000       5.000000      2.000000  \n",
       "\n",
       "[8 rows x 22 columns]"
      ]
     },
     "execution_count": 53,
     "metadata": {},
     "output_type": "execute_result"
    }
   ],
   "source": [
    "X_train.describe()\n"
   ]
  },
  {
   "cell_type": "code",
   "execution_count": 60,
   "id": "69b963c3-099f-4994-a102-cd6ffb0c8b57",
   "metadata": {},
   "outputs": [
    {
     "data": {
      "text/plain": [
       "Index(['Customer', 'State', 'Customer Lifetime Value', 'Response', 'Coverage',\n",
       "       'Education', 'Effective To Date', 'EmploymentStatus', 'Income',\n",
       "       'Location Code', 'Marital Status', 'Monthly Premium Auto',\n",
       "       'Months Since Last Claim', 'Months Since Policy Inception',\n",
       "       'Number of Open Complaints', 'Number of Policies', 'Policy Type',\n",
       "       'Policy', 'Renew Offer Type', 'Sales Channel', 'Vehicle Class',\n",
       "       'Vehicle Size'],\n",
       "      dtype='object')"
      ]
     },
     "execution_count": 60,
     "metadata": {},
     "output_type": "execute_result"
    }
   ],
   "source": [
    "X_train.columns"
   ]
  },
  {
   "cell_type": "code",
   "execution_count": 50,
   "id": "197a0690-5243-4fa6-a651-60f08b0d39bb",
   "metadata": {},
   "outputs": [
    {
     "name": "stdout",
     "output_type": "stream",
     "text": [
      "0.379198241361757\n",
      "0.5914341737063215\n"
     ]
    }
   ],
   "source": [
    "print(metrics.mean_absolute_percentage_error(y_train, predicciones_train))\n",
    "print(metrics.mean_absolute_percentage_error(y_test, predicciones_test))"
   ]
  },
  {
   "cell_type": "markdown",
   "id": "b3e70b02-1f9a-4e10-a5c6-ec1b7520396b",
   "metadata": {},
   "source": [
    "## The errors in predictions went down and the model doesn't seem to be overfitted any longer."
   ]
  },
  {
   "cell_type": "markdown",
   "id": "ec5824b5-1fbb-4df4-82f3-715fa1a9137d",
   "metadata": {},
   "source": [
    "## There are some X values whose coefficient is lower than 0.1, they are removed before the next fit:"
   ]
  },
  {
   "cell_type": "code",
   "execution_count": 62,
   "id": "cae75eb3-31f2-4d51-a744-b7357c51e457",
   "metadata": {},
   "outputs": [
    {
     "data": {
      "text/html": [
       "<div>\n",
       "<style scoped>\n",
       "    .dataframe tbody tr th:only-of-type {\n",
       "        vertical-align: middle;\n",
       "    }\n",
       "\n",
       "    .dataframe tbody tr th {\n",
       "        vertical-align: top;\n",
       "    }\n",
       "\n",
       "    .dataframe thead th {\n",
       "        text-align: right;\n",
       "    }\n",
       "</style>\n",
       "<table border=\"1\" class=\"dataframe\">\n",
       "  <thead>\n",
       "    <tr style=\"text-align: right;\">\n",
       "      <th></th>\n",
       "      <th>Customer</th>\n",
       "      <th>State</th>\n",
       "      <th>Customer Lifetime Value</th>\n",
       "      <th>Response</th>\n",
       "      <th>Coverage</th>\n",
       "      <th>Education</th>\n",
       "      <th>Effective To Date</th>\n",
       "      <th>EmploymentStatus</th>\n",
       "      <th>Income</th>\n",
       "      <th>Location Code</th>\n",
       "      <th>...</th>\n",
       "      <th>Months Since Last Claim</th>\n",
       "      <th>Months Since Policy Inception</th>\n",
       "      <th>Number of Open Complaints</th>\n",
       "      <th>Number of Policies</th>\n",
       "      <th>Policy Type</th>\n",
       "      <th>Policy</th>\n",
       "      <th>Renew Offer Type</th>\n",
       "      <th>Sales Channel</th>\n",
       "      <th>Vehicle Class</th>\n",
       "      <th>Vehicle Size</th>\n",
       "    </tr>\n",
       "  </thead>\n",
       "  <tbody>\n",
       "    <tr>\n",
       "      <th>0</th>\n",
       "      <td>4595</td>\n",
       "      <td>2</td>\n",
       "      <td>2763.519279</td>\n",
       "      <td>0</td>\n",
       "      <td>0</td>\n",
       "      <td>3</td>\n",
       "      <td>12</td>\n",
       "      <td>0</td>\n",
       "      <td>56274</td>\n",
       "      <td>2</td>\n",
       "      <td>...</td>\n",
       "      <td>32</td>\n",
       "      <td>5</td>\n",
       "      <td>0</td>\n",
       "      <td>1</td>\n",
       "      <td>0</td>\n",
       "      <td>0</td>\n",
       "      <td>3</td>\n",
       "      <td>3</td>\n",
       "      <td>0</td>\n",
       "      <td>0</td>\n",
       "    </tr>\n",
       "    <tr>\n",
       "      <th>1</th>\n",
       "      <td>8854</td>\n",
       "      <td>0</td>\n",
       "      <td>6979.535903</td>\n",
       "      <td>0</td>\n",
       "      <td>1</td>\n",
       "      <td>3</td>\n",
       "      <td>6</td>\n",
       "      <td>4</td>\n",
       "      <td>0</td>\n",
       "      <td>2</td>\n",
       "      <td>...</td>\n",
       "      <td>13</td>\n",
       "      <td>42</td>\n",
       "      <td>0</td>\n",
       "      <td>8</td>\n",
       "      <td>1</td>\n",
       "      <td>2</td>\n",
       "      <td>2</td>\n",
       "      <td>3</td>\n",
       "      <td>1</td>\n",
       "      <td>0</td>\n",
       "    </tr>\n",
       "    <tr>\n",
       "      <th>2</th>\n",
       "      <td>7076</td>\n",
       "      <td>4</td>\n",
       "      <td>12887.431650</td>\n",
       "      <td>0</td>\n",
       "      <td>2</td>\n",
       "      <td>3</td>\n",
       "      <td>38</td>\n",
       "      <td>0</td>\n",
       "      <td>48767</td>\n",
       "      <td>2</td>\n",
       "      <td>...</td>\n",
       "      <td>18</td>\n",
       "      <td>38</td>\n",
       "      <td>0</td>\n",
       "      <td>2</td>\n",
       "      <td>1</td>\n",
       "      <td>2</td>\n",
       "      <td>3</td>\n",
       "      <td>3</td>\n",
       "      <td>0</td>\n",
       "      <td>0</td>\n",
       "    </tr>\n",
       "    <tr>\n",
       "      <th>3</th>\n",
       "      <td>6621</td>\n",
       "      <td>3</td>\n",
       "      <td>7645.861827</td>\n",
       "      <td>0</td>\n",
       "      <td>0</td>\n",
       "      <td>3</td>\n",
       "      <td>21</td>\n",
       "      <td>4</td>\n",
       "      <td>0</td>\n",
       "      <td>2</td>\n",
       "      <td>...</td>\n",
       "      <td>18</td>\n",
       "      <td>65</td>\n",
       "      <td>0</td>\n",
       "      <td>7</td>\n",
       "      <td>0</td>\n",
       "      <td>6</td>\n",
       "      <td>3</td>\n",
       "      <td>0</td>\n",
       "      <td>3</td>\n",
       "      <td>0</td>\n",
       "    </tr>\n",
       "    <tr>\n",
       "      <th>4</th>\n",
       "      <td>1233</td>\n",
       "      <td>2</td>\n",
       "      <td>2813.692575</td>\n",
       "      <td>0</td>\n",
       "      <td>0</td>\n",
       "      <td>3</td>\n",
       "      <td>1</td>\n",
       "      <td>0</td>\n",
       "      <td>43836</td>\n",
       "      <td>0</td>\n",
       "      <td>...</td>\n",
       "      <td>12</td>\n",
       "      <td>44</td>\n",
       "      <td>0</td>\n",
       "      <td>1</td>\n",
       "      <td>1</td>\n",
       "      <td>7</td>\n",
       "      <td>3</td>\n",
       "      <td>3</td>\n",
       "      <td>1</td>\n",
       "      <td>0</td>\n",
       "    </tr>\n",
       "  </tbody>\n",
       "</table>\n",
       "<p>5 rows × 22 columns</p>\n",
       "</div>"
      ],
      "text/plain": [
       "   Customer  State  Customer Lifetime Value  Response  Coverage  Education  \\\n",
       "0      4595      2              2763.519279         0         0          3   \n",
       "1      8854      0              6979.535903         0         1          3   \n",
       "2      7076      4             12887.431650         0         2          3   \n",
       "3      6621      3              7645.861827         0         0          3   \n",
       "4      1233      2              2813.692575         0         0          3   \n",
       "\n",
       "   Effective To Date  EmploymentStatus  Income  Location Code  ...  \\\n",
       "0                 12                 0   56274              2  ...   \n",
       "1                  6                 4       0              2  ...   \n",
       "2                 38                 0   48767              2  ...   \n",
       "3                 21                 4       0              2  ...   \n",
       "4                  1                 0   43836              0  ...   \n",
       "\n",
       "   Months Since Last Claim  Months Since Policy Inception  \\\n",
       "0                       32                              5   \n",
       "1                       13                             42   \n",
       "2                       18                             38   \n",
       "3                       18                             65   \n",
       "4                       12                             44   \n",
       "\n",
       "   Number of Open Complaints  Number of Policies  Policy Type  Policy  \\\n",
       "0                          0                   1            0       0   \n",
       "1                          0                   8            1       2   \n",
       "2                          0                   2            1       2   \n",
       "3                          0                   7            0       6   \n",
       "4                          0                   1            1       7   \n",
       "\n",
       "   Renew Offer Type  Sales Channel  Vehicle Class  Vehicle Size  \n",
       "0                 3              3              0             0  \n",
       "1                 2              3              1             0  \n",
       "2                 3              3              0             0  \n",
       "3                 3              0              3             0  \n",
       "4                 3              3              1             0  \n",
       "\n",
       "[5 rows x 22 columns]"
      ]
     },
     "execution_count": 62,
     "metadata": {},
     "output_type": "execute_result"
    }
   ],
   "source": [
    "X.head()"
   ]
  },
  {
   "cell_type": "code",
   "execution_count": 77,
   "id": "8f856228-6cda-4210-bbf6-e21d6d5776f0",
   "metadata": {},
   "outputs": [],
   "source": [
    "X_small=X.drop(['Customer',  'Customer Lifetime Value',  'Months Since Policy Inception'],axis=1, )"
   ]
  },
  {
   "cell_type": "code",
   "execution_count": 78,
   "id": "a94ee3e7-22e1-4487-9ee4-ac0f2698fc18",
   "metadata": {},
   "outputs": [],
   "source": [
    "X_train, X_test, y_train, y_test = train_test_split(X_small, y, train_size = 0.8, random_state = 419)"
   ]
  },
  {
   "cell_type": "code",
   "execution_count": 79,
   "id": "34542156-cb69-4f2f-88b5-bdfba80efc5c",
   "metadata": {},
   "outputs": [],
   "source": [
    "linreg_small = LinearRegression()"
   ]
  },
  {
   "cell_type": "code",
   "execution_count": 80,
   "id": "5ac4ad4c-6b3d-42f2-a81b-ede3b8da582a",
   "metadata": {},
   "outputs": [
    {
     "data": {
      "text/plain": [
       "LinearRegression()"
      ]
     },
     "execution_count": 80,
     "metadata": {},
     "output_type": "execute_result"
    }
   ],
   "source": [
    "linreg_small.fit(X_train, y_train)"
   ]
  },
  {
   "cell_type": "code",
   "execution_count": 81,
   "id": "da52e9f4-5133-470c-bbfe-eae6253d1392",
   "metadata": {},
   "outputs": [
    {
     "data": {
      "text/plain": [
       "array([ 1.87504867e+00, -3.51555207e+01, -1.15768989e+01,  6.65577386e+00,\n",
       "        2.78834037e-01,  1.74812408e+01, -2.38773389e-04,  1.87072844e+02,\n",
       "        3.31862728e+01,  5.24633977e+00,  4.31634037e-01, -1.43080490e+00,\n",
       "        1.15350693e+00,  4.12508832e-01,  1.27945899e+00, -8.40462535e+00,\n",
       "        3.41692651e-02, -6.06306500e+00,  5.41401693e+00])"
      ]
     },
     "execution_count": 81,
     "metadata": {},
     "output_type": "execute_result"
    }
   ],
   "source": [
    "linreg_small.coef_"
   ]
  },
  {
   "cell_type": "code",
   "execution_count": 83,
   "id": "09933fd6-3dea-48b6-864d-b94dd202581f",
   "metadata": {},
   "outputs": [],
   "source": [
    "predicciones_train = linreg_small.predict(X_train)\n",
    "predicciones_test = linreg_small.predict(X_test)"
   ]
  },
  {
   "cell_type": "code",
   "execution_count": 84,
   "id": "583fa13f-9036-41be-a125-b5f8d252f38b",
   "metadata": {},
   "outputs": [
    {
     "name": "stdout",
     "output_type": "stream",
     "text": [
      "0.7685273948697142\n",
      "0.7591843379514913\n"
     ]
    }
   ],
   "source": [
    "print(metrics.r2_score(y_train, predicciones_train))\n",
    "print(metrics.r2_score(y_test, predicciones_test))"
   ]
  },
  {
   "cell_type": "code",
   "execution_count": 85,
   "id": "ed5035ca-7d08-4147-b35a-ac96c0297b1f",
   "metadata": {},
   "outputs": [
    {
     "name": "stdout",
     "output_type": "stream",
     "text": [
      "96.93381162858314\n",
      "98.53119356408715\n"
     ]
    }
   ],
   "source": [
    "print(metrics.mean_absolute_error(y_train, predicciones_train))\n",
    "print(metrics.mean_absolute_error(y_test, predicciones_test))"
   ]
  },
  {
   "cell_type": "code",
   "execution_count": 86,
   "id": "5cdb1c3d-fab3-40b4-95b5-e90095ae86f4",
   "metadata": {},
   "outputs": [
    {
     "data": {
      "text/plain": [
       "count    7307.000000\n",
       "mean      434.656430\n",
       "std       289.529538\n",
       "min         0.423310\n",
       "25%       270.377414\n",
       "50%       386.031248\n",
       "75%       552.000000\n",
       "max      2759.794354\n",
       "Name: Total Claim Amount, dtype: float64"
      ]
     },
     "execution_count": 86,
     "metadata": {},
     "output_type": "execute_result"
    }
   ],
   "source": [
    "y_train.describe()"
   ]
  },
  {
   "cell_type": "markdown",
   "id": "4877ef11-7ba0-4188-99bb-a7611714b345",
   "metadata": {},
   "source": [
    "## r2 is smaller, but the mean absolute error is greater."
   ]
  },
  {
   "cell_type": "code",
   "execution_count": null,
   "id": "406e9627-2a6f-4a60-929d-46f566dc079f",
   "metadata": {},
   "outputs": [],
   "source": []
  }
 ],
 "metadata": {
  "kernelspec": {
   "display_name": "Python 3 (ipykernel)",
   "language": "python",
   "name": "python3"
  },
  "language_info": {
   "codemirror_mode": {
    "name": "ipython",
    "version": 3
   },
   "file_extension": ".py",
   "mimetype": "text/x-python",
   "name": "python",
   "nbconvert_exporter": "python",
   "pygments_lexer": "ipython3",
   "version": "3.9.12"
  }
 },
 "nbformat": 4,
 "nbformat_minor": 5
}
